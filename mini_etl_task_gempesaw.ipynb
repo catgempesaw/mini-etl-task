{
 "cells": [
  {
   "cell_type": "code",
   "execution_count": 24,
   "id": "908c0d78",
   "metadata": {},
   "outputs": [],
   "source": [
    "import boto3\n",
    "import pandas as pd\n",
    "import os\n",
    "from dotenv import load_dotenv\n",
    "from io import StringIO"
   ]
  },
  {
   "cell_type": "code",
   "execution_count": null,
   "id": "501d944b",
   "metadata": {},
   "outputs": [],
   "source": [
    "load_dotenv()\n",
    "s3 = boto3.client(\n",
    "    's3',\n",
    "    aws_access_key_id=os.getenv('AWS_ACCESS_KEY_ID'),\n",
    "    aws_secret_access_key=os.getenv('AWS_SECRET_ACCESS_KEY'),\n",
    "    region_name=os.getenv(\"AWS_DEFAULT_REGION\")\n",
    ")\n",
    "\n",
    "bucket = os.getenv('S3_BUCKET')\n",
    "input_key = 'raw_sales_data.csv'\n",
    "output_key = 'cassey_processed/processed_electronics_sales.csv'"
   ]
  },
  {
   "cell_type": "markdown",
   "id": "6385af99",
   "metadata": {},
   "source": [
    "# Extract"
   ]
  },
  {
   "cell_type": "code",
   "execution_count": 26,
   "id": "445eabf2",
   "metadata": {},
   "outputs": [
    {
     "name": "stdout",
     "output_type": "stream",
     "text": [
      "   sale_id  product_id             product_name     category  quantity_sold  \\\n",
      "0        1         101               Laptop Pro  Electronics              5   \n",
      "1        2         102              Desktop Max  Electronics              2   \n",
      "2        3         201             Office Chair    Furniture             10   \n",
      "3        4         103           Wireless Mouse  Electronics             25   \n",
      "4        5         301  Python Programming Book        Books             50   \n",
      "\n",
      "   price_per_unit   sale_date region  \n",
      "0          1200.0  2023-01-15  North  \n",
      "1          1500.0  2023-01-16  North  \n",
      "2           150.0  2023-01-17  South  \n",
      "3            25.0  2023-01-18   West  \n",
      "4            45.0  2023-01-18   East  \n"
     ]
    }
   ],
   "source": [
    "obj = s3.get_object(Bucket=bucket, Key=input_key)\n",
    "raw_data = pd.read_csv(StringIO(obj['Body'].read().decode('utf-8')))\n",
    "print(raw_data.head())"
   ]
  },
  {
   "cell_type": "markdown",
   "id": "4a9a1454",
   "metadata": {},
   "source": [
    "# Transform"
   ]
  },
  {
   "cell_type": "code",
   "execution_count": 27,
   "id": "4a9bd2a7",
   "metadata": {},
   "outputs": [],
   "source": [
    "# Calculate a new column total_revenue (quantity_sold * price_per_unit).\n",
    "raw_data['total_revenue'] = raw_data['quantity_sold'] * raw_data['price_per_unit']\n",
    "# print(raw_data.head())"
   ]
  },
  {
   "cell_type": "code",
   "execution_count": 28,
   "id": "047f6f03",
   "metadata": {},
   "outputs": [],
   "source": [
    "# Filter data to include only sales from the 'Electronics' category.\n",
    "filtered_data = raw_data[raw_data['category'] == 'Electronics']\n",
    "# print(filtered_data.head())"
   ]
  },
  {
   "cell_type": "code",
   "execution_count": 32,
   "id": "8c4c80de",
   "metadata": {},
   "outputs": [],
   "source": [
    "# Ensure sale_date is in YYYY-MM-DD format\n",
    "filtered_data.loc[:, 'sale_date'] = pd.to_datetime(filtered_data['sale_date']).dt.strftime('%Y-%m-%d')\n"
   ]
  },
  {
   "cell_type": "code",
   "execution_count": 30,
   "id": "6f3ea48c",
   "metadata": {},
   "outputs": [
    {
     "name": "stdout",
     "output_type": "stream",
     "text": [
      "   sale_id    product_name     category  total_revenue   sale_date region\n",
      "0        1      Laptop Pro  Electronics         6000.0  2023-01-15  North\n",
      "1        2     Desktop Max  Electronics         3000.0  2023-01-16  North\n",
      "3        4  Wireless Mouse  Electronics          625.0  2023-01-18   West\n",
      "5        6      Laptop Pro  Electronics         3600.0  2023-01-19  South\n",
      "7        8    Keyboard Pro  Electronics         1125.0  2023-01-20   East\n"
     ]
    }
   ],
   "source": [
    "# Select and reorder columns: sale_id, product_name, category, total_revenue, sale_date, region\n",
    "filtered_data = filtered_data[['sale_id', 'product_name', 'category', 'total_revenue', 'sale_date', 'region']]\n",
    "print(filtered_data.head())"
   ]
  },
  {
   "cell_type": "markdown",
   "id": "ae7c132b",
   "metadata": {},
   "source": [
    "# Load"
   ]
  },
  {
   "cell_type": "code",
   "execution_count": 33,
   "id": "a57157b9",
   "metadata": {},
   "outputs": [
    {
     "name": "stdout",
     "output_type": "stream",
     "text": [
      "Processed file uploaded to S3.\n"
     ]
    }
   ],
   "source": [
    "# Save CSV back to S3\n",
    "csv_buffer = StringIO()\n",
    "filtered_data.to_csv(csv_buffer, index=False)\n",
    "\n",
    "s3.put_object(Bucket=bucket, Key=output_key, Body=csv_buffer.getvalue())\n",
    "print(\"Processed file uploaded to S3.\")"
   ]
  }
 ],
 "metadata": {
  "kernelspec": {
   "display_name": "Python (.venv)",
   "language": "python",
   "name": ".venv"
  },
  "language_info": {
   "codemirror_mode": {
    "name": "ipython",
    "version": 3
   },
   "file_extension": ".py",
   "mimetype": "text/x-python",
   "name": "python",
   "nbconvert_exporter": "python",
   "pygments_lexer": "ipython3",
   "version": "3.11.2"
  }
 },
 "nbformat": 4,
 "nbformat_minor": 5
}
