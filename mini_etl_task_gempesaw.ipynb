{
 "cells": [
  {
   "cell_type": "code",
   "execution_count": 44,
   "id": "908c0d78",
   "metadata": {},
   "outputs": [],
   "source": [
    "import pandas as pd"
   ]
  },
  {
   "cell_type": "markdown",
   "id": "6385af99",
   "metadata": {},
   "source": [
    "# Extract"
   ]
  },
  {
   "cell_type": "code",
   "execution_count": 58,
   "id": "445eabf2",
   "metadata": {},
   "outputs": [],
   "source": [
    "# Load the raw sales data from a CSV file\n",
    "raw_data = pd.read_csv('raw_sales_data.csv')\n",
    "# print(raw_data.head())"
   ]
  },
  {
   "cell_type": "markdown",
   "id": "4a9a1454",
   "metadata": {},
   "source": [
    "# Transform"
   ]
  },
  {
   "cell_type": "code",
   "execution_count": 59,
   "id": "4a9bd2a7",
   "metadata": {},
   "outputs": [],
   "source": [
    "# Calculate a new column total_revenue (quantity_sold * price_per_unit).\n",
    "raw_data['total_revenue'] = raw_data['quantity_sold'] * raw_data['price_per_unit']\n",
    "# print(raw_data.head())"
   ]
  },
  {
   "cell_type": "code",
   "execution_count": 60,
   "id": "047f6f03",
   "metadata": {},
   "outputs": [],
   "source": [
    "# Filter data to include only sales from the 'Electronics' category.\n",
    "filtered_data = raw_data[raw_data['category'] == 'Electronics']\n",
    "# print(filtered_data.head())"
   ]
  },
  {
   "cell_type": "code",
   "execution_count": null,
   "id": "8c4c80de",
   "metadata": {},
   "outputs": [
    {
     "name": "stdout",
     "output_type": "stream",
     "text": [
      "   sale_id  product_id    product_name     category  quantity_sold  \\\n",
      "0        1         101      Laptop Pro  Electronics              5   \n",
      "1        2         102     Desktop Max  Electronics              2   \n",
      "3        4         103  Wireless Mouse  Electronics             25   \n",
      "5        6         101      Laptop Pro  Electronics              3   \n",
      "7        8         104    Keyboard Pro  Electronics             15   \n",
      "\n",
      "   price_per_unit   sale_date region  total_revenue  \n",
      "0          1200.0  2023-01-15  North         6000.0  \n",
      "1          1500.0  2023-01-16  North         3000.0  \n",
      "3            25.0  2023-01-18   West          625.0  \n",
      "5          1200.0  2023-01-19  South         3600.0  \n",
      "7            75.0  2023-01-20   East         1125.0  \n"
     ]
    },
    {
     "name": "stderr",
     "output_type": "stream",
     "text": [
      "/var/folders/_2/rd9y3pp54nb4lcfmvwscq37w0000gn/T/ipykernel_46753/1592355399.py:2: SettingWithCopyWarning: \n",
      "A value is trying to be set on a copy of a slice from a DataFrame.\n",
      "Try using .loc[row_indexer,col_indexer] = value instead\n",
      "\n",
      "See the caveats in the documentation: https://pandas.pydata.org/pandas-docs/stable/user_guide/indexing.html#returning-a-view-versus-a-copy\n",
      "  filtered_data['sale_date'] = pd.to_datetime(filtered_data['sale_date']).dt.strftime('%Y-%m-%d')\n"
     ]
    }
   ],
   "source": [
    "# Ensure sale_date is in YYYY-MM-DD format\n",
    "filtered_data['sale_date'] = pd.to_datetime(filtered_data['sale_date']).dt.strftime('%Y-%m-%d')\n",
    "# print(filtered_data.head())"
   ]
  },
  {
   "cell_type": "code",
   "execution_count": 55,
   "id": "6f3ea48c",
   "metadata": {},
   "outputs": [
    {
     "name": "stdout",
     "output_type": "stream",
     "text": [
      "   sale_id    product_name     category  total_revenue   sale_date region\n",
      "0        1      Laptop Pro  Electronics         6000.0  2023-01-15  North\n",
      "1        2     Desktop Max  Electronics         3000.0  2023-01-16  North\n",
      "3        4  Wireless Mouse  Electronics          625.0  2023-01-18   West\n",
      "5        6      Laptop Pro  Electronics         3600.0  2023-01-19  South\n",
      "7        8    Keyboard Pro  Electronics         1125.0  2023-01-20   East\n"
     ]
    }
   ],
   "source": [
    "# Select and reorder columns: sale_id, product_name, category, total_revenue, sale_date, region\n",
    "filtered_data = filtered_data[['sale_id', 'product_name', 'category', 'total_revenue', 'sale_date', 'region']]\n",
    "print(filtered_data.head())"
   ]
  },
  {
   "cell_type": "markdown",
   "id": "ae7c132b",
   "metadata": {},
   "source": [
    "# Load"
   ]
  },
  {
   "cell_type": "code",
   "execution_count": 54,
   "id": "a57157b9",
   "metadata": {},
   "outputs": [
    {
     "name": "stdout",
     "output_type": "stream",
     "text": [
      "   sale_id    product_name     category  total_revenue   sale_date region\n",
      "0        1      Laptop Pro  Electronics         6000.0  2023-01-15  North\n",
      "1        2     Desktop Max  Electronics         3000.0  2023-01-16  North\n",
      "2        4  Wireless Mouse  Electronics          625.0  2023-01-18   West\n",
      "3        6      Laptop Pro  Electronics         3600.0  2023-01-19  South\n",
      "4        8    Keyboard Pro  Electronics         1125.0  2023-01-20   East\n"
     ]
    }
   ],
   "source": [
    "# Save the transformed DataFrame to a new CSV file named processed_electronics_sales.csv\n",
    "filtered_data.to_csv('processed_electronics_sales.csv', index=False)\n",
    "\n",
    "processed_electronics_sales = pd.read_csv('processed_electronics_sales.csv')\n",
    "print(processed_electronics_sales.head())"
   ]
  }
 ],
 "metadata": {
  "kernelspec": {
   "display_name": "Python (.venv)",
   "language": "python",
   "name": ".venv"
  },
  "language_info": {
   "codemirror_mode": {
    "name": "ipython",
    "version": 3
   },
   "file_extension": ".py",
   "mimetype": "text/x-python",
   "name": "python",
   "nbconvert_exporter": "python",
   "pygments_lexer": "ipython3",
   "version": "3.11.2"
  }
 },
 "nbformat": 4,
 "nbformat_minor": 5
}
